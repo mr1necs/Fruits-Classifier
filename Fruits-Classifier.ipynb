{
 "cells": [
  {
   "cell_type": "code",
   "execution_count": 1,
   "metadata": {},
   "outputs": [],
   "source": [
    "import pandas as pd\n",
    "import numpy as np\n",
    "\n",
    "import torch\n",
    "import torch.nn as nn\n",
    "\n",
    "from sklearn.model_selection import train_test_split\n",
    "from sklearn.metrics import accuracy_score\n",
    "from sklearn.preprocessing import MinMaxScaler"
   ]
  },
  {
   "cell_type": "code",
   "execution_count": 2,
   "metadata": {},
   "outputs": [],
   "source": [
    "df = pd.read_csv('classes.csv')"
   ]
  },
  {
   "cell_type": "code",
   "execution_count": 3,
   "metadata": {},
   "outputs": [
    {
     "name": "stdout",
     "output_type": "stream",
     "text": [
      "<class 'pandas.core.frame.DataFrame'>\n",
      "RangeIndex: 240 entries, 0 to 239\n",
      "Data columns (total 7 columns):\n",
      " #   Column                  Non-Null Count  Dtype  \n",
      "---  ------                  --------------  -----  \n",
      " 0   Temperature (K)         240 non-null    int64  \n",
      " 1   Luminosity(L/Lo)        240 non-null    float64\n",
      " 2   Radius(R/Ro)            240 non-null    float64\n",
      " 3   Absolute magnitude(Mv)  240 non-null    float64\n",
      " 4   Star type               240 non-null    int64  \n",
      " 5   Star color              240 non-null    object \n",
      " 6   Spectral Class          240 non-null    object \n",
      "dtypes: float64(3), int64(2), object(2)\n",
      "memory usage: 13.3+ KB\n"
     ]
    }
   ],
   "source": [
    "df.info()"
   ]
  },
  {
   "cell_type": "code",
   "execution_count": 4,
   "metadata": {},
   "outputs": [],
   "source": [
    "df.replace({'Spectral Class':{'M':0, \n",
    "                              'A':1, \n",
    "                              'B':2, \n",
    "                              'F':3, \n",
    "                              'O':4, \n",
    "                              'K':5, \n",
    "                              'G':6 }}, inplace=True)"
   ]
  },
  {
   "cell_type": "code",
   "execution_count": 5,
   "metadata": {},
   "outputs": [],
   "source": [
    "df.replace({'Star color':{'Red': 1,\n",
    "                          'Blue': 2,\n",
    "                          'Blue-white': 4,\n",
    "                          'Blue White': 4,\n",
    "                          'yellow-white': 3,\n",
    "                          'White': 0, \n",
    "                          'Blue white': 4,\n",
    "                          'white': 0, \n",
    "                          'Yellowish White': 3, \n",
    "                          'Whitish': 0,\n",
    "                          'yellowish': 3,\n",
    "                          'Orange': 1,\n",
    "                          'Blue ': 2,\n",
    "                          'White-Yellow': 3,\n",
    "                          'Orange-Red': 1,\n",
    "                          'Yellowish': 3, \n",
    "                          'Blue-White': 4,\n",
    "                          'Blue white ': 4,\n",
    "                          'Pale yellow orange': 3}}, inplace=True)"
   ]
  },
  {
   "cell_type": "code",
   "execution_count": 6,
   "metadata": {},
   "outputs": [],
   "source": [
    "df[\"Temperature (K)\"] = np.log(df[\"Temperature (K)\"])\n",
    "df[\"Luminosity(L/Lo)\"] = np.log(df[\"Luminosity(L/Lo)\"])\n",
    "df[\"Radius(R/Ro)\"] = np.log(df[\"Radius(R/Ro)\"])"
   ]
  },
  {
   "cell_type": "code",
   "execution_count": 7,
   "metadata": {},
   "outputs": [],
   "source": [
    "scaler = MinMaxScaler()"
   ]
  },
  {
   "cell_type": "code",
   "execution_count": 8,
   "metadata": {},
   "outputs": [],
   "source": [
    "df[\"Temperature (K)\"] = scaler.fit_transform(np.expand_dims(df[\"Temperature (K)\"], axis = 1))\n",
    "df[\"Luminosity(L/Lo)\"] = scaler.fit_transform(np.expand_dims(df[\"Luminosity(L/Lo)\"], axis = 1))\n",
    "df[\"Radius(R/Ro)\"] = scaler.fit_transform(np.expand_dims(df[\"Radius(R/Ro)\"], axis = 1))\n",
    "df[\"Absolute magnitude(Mv)\"] = scaler.fit_transform(np.expand_dims(df[\"Absolute magnitude(Mv)\"], axis = 1))\n",
    "df[\"Star color\"] = scaler.fit_transform(np.expand_dims(df[\"Star color\"], axis = 1))\n",
    "df[\"Spectral Class\"] = scaler.fit_transform(np.expand_dims(df[\"Spectral Class\"], axis = 1))"
   ]
  },
  {
   "cell_type": "code",
   "execution_count": 9,
   "metadata": {},
   "outputs": [
    {
     "data": {
      "text/html": [
       "<div>\n",
       "<style scoped>\n",
       "    .dataframe tbody tr th:only-of-type {\n",
       "        vertical-align: middle;\n",
       "    }\n",
       "\n",
       "    .dataframe tbody tr th {\n",
       "        vertical-align: top;\n",
       "    }\n",
       "\n",
       "    .dataframe thead th {\n",
       "        text-align: right;\n",
       "    }\n",
       "</style>\n",
       "<table border=\"1\" class=\"dataframe\">\n",
       "  <thead>\n",
       "    <tr style=\"text-align: right;\">\n",
       "      <th></th>\n",
       "      <th>Temperature (K)</th>\n",
       "      <th>Luminosity(L/Lo)</th>\n",
       "      <th>Radius(R/Ro)</th>\n",
       "      <th>Absolute magnitude(Mv)</th>\n",
       "      <th>Star type</th>\n",
       "      <th>Star color</th>\n",
       "      <th>Spectral Class</th>\n",
       "    </tr>\n",
       "  </thead>\n",
       "  <tbody>\n",
       "    <tr>\n",
       "      <th>0</th>\n",
       "      <td>0.151602</td>\n",
       "      <td>0.147329</td>\n",
       "      <td>0.243442</td>\n",
       "      <td>0.876798</td>\n",
       "      <td>0</td>\n",
       "      <td>0.25</td>\n",
       "      <td>0.0</td>\n",
       "    </tr>\n",
       "    <tr>\n",
       "      <th>1</th>\n",
       "      <td>0.148790</td>\n",
       "      <td>0.079381</td>\n",
       "      <td>0.235546</td>\n",
       "      <td>0.891807</td>\n",
       "      <td>0</td>\n",
       "      <td>0.25</td>\n",
       "      <td>0.0</td>\n",
       "    </tr>\n",
       "    <tr>\n",
       "      <th>2</th>\n",
       "      <td>0.096917</td>\n",
       "      <td>0.057254</td>\n",
       "      <td>0.202094</td>\n",
       "      <td>0.957473</td>\n",
       "      <td>0</td>\n",
       "      <td>0.25</td>\n",
       "      <td>0.0</td>\n",
       "    </tr>\n",
       "    <tr>\n",
       "      <th>3</th>\n",
       "      <td>0.121402</td>\n",
       "      <td>0.039691</td>\n",
       "      <td>0.238535</td>\n",
       "      <td>0.893371</td>\n",
       "      <td>0</td>\n",
       "      <td>0.25</td>\n",
       "      <td>0.0</td>\n",
       "    </tr>\n",
       "    <tr>\n",
       "      <th>4</th>\n",
       "      <td>0.000000</td>\n",
       "      <td>0.023617</td>\n",
       "      <td>0.202884</td>\n",
       "      <td>1.000000</td>\n",
       "      <td>0</td>\n",
       "      <td>0.25</td>\n",
       "      <td>0.0</td>\n",
       "    </tr>\n",
       "  </tbody>\n",
       "</table>\n",
       "</div>"
      ],
      "text/plain": [
       "   Temperature (K)  Luminosity(L/Lo)  Radius(R/Ro)  Absolute magnitude(Mv)  \\\n",
       "0         0.151602          0.147329      0.243442                0.876798   \n",
       "1         0.148790          0.079381      0.235546                0.891807   \n",
       "2         0.096917          0.057254      0.202094                0.957473   \n",
       "3         0.121402          0.039691      0.238535                0.893371   \n",
       "4         0.000000          0.023617      0.202884                1.000000   \n",
       "\n",
       "   Star type  Star color  Spectral Class  \n",
       "0          0        0.25             0.0  \n",
       "1          0        0.25             0.0  \n",
       "2          0        0.25             0.0  \n",
       "3          0        0.25             0.0  \n",
       "4          0        0.25             0.0  "
      ]
     },
     "execution_count": 9,
     "metadata": {},
     "output_type": "execute_result"
    }
   ],
   "source": [
    "df.head()"
   ]
  },
  {
   "cell_type": "code",
   "execution_count": 10,
   "metadata": {},
   "outputs": [],
   "source": [
    "x = df.drop([\"Star type\"], axis = 1)\n",
    "y = df[\"Star type\"]"
   ]
  },
  {
   "cell_type": "code",
   "execution_count": 11,
   "metadata": {},
   "outputs": [],
   "source": [
    "x_train, x_test, y_train, y_test = train_test_split(x, y, test_size=0.2)"
   ]
  },
  {
   "cell_type": "code",
   "execution_count": 12,
   "metadata": {},
   "outputs": [],
   "source": [
    "x_train_tensor = torch.from_numpy(x_train.to_numpy()).float()\n",
    "y_train_tensor = torch.from_numpy(y_train.to_numpy()).long()\n",
    "x_test_tensor = torch.from_numpy(x_test.to_numpy()).float()\n",
    "y_test_tensor = torch.from_numpy(y_test.to_numpy()).long()"
   ]
  },
  {
   "cell_type": "code",
   "execution_count": 13,
   "metadata": {},
   "outputs": [],
   "source": [
    "class CNN(nn.Module):\n",
    "    def __init__(self,input_d,output_d,layer_s,dropout):\n",
    "        super(CNN, self).__init__()\n",
    "        self.myn = nn.Sequential(\n",
    "        nn.Dropout(dropout),\n",
    "        nn.Linear(input_d,layer_s[0]),\n",
    "        nn.ReLU(),\n",
    "        nn.Dropout(dropout),\n",
    "        nn.Linear(layer_s[0],layer_s[1]),\n",
    "        nn.ReLU(),\n",
    "        nn.Dropout(dropout),\n",
    "        nn.Linear(layer_s[1], layer_s[2]),\n",
    "        nn.ReLU(),\n",
    "        nn.Dropout(dropout),\n",
    "        nn.Linear(layer_s[2], layer_s[3]),\n",
    "        nn.ReLU(),\n",
    "        nn.Dropout(dropout),\n",
    "        nn.Linear(layer_s[3], layer_s[4]),\n",
    "        nn.ReLU(),\n",
    "        nn.Dropout(dropout),\n",
    "        nn.Linear(layer_s[4], output_d),\n",
    "        \n",
    "\n",
    "        )\n",
    "    def forward(self, input_tensor):\n",
    "        output_tensor = self.myn(input_tensor)\n",
    "        return output_tensor"
   ]
  },
  {
   "cell_type": "code",
   "execution_count": 19,
   "metadata": {},
   "outputs": [],
   "source": [
    "model = CNN(x_train_tensor.shape[1], len(torch.unique(y_train_tensor)), [1024,1024,512,256,128], 0.2)"
   ]
  },
  {
   "cell_type": "code",
   "execution_count": 20,
   "metadata": {},
   "outputs": [],
   "source": [
    "loss_func = nn.CrossEntropyLoss()\n",
    "optimizer = torch.optim.Adam(model.parameters(), lr = 0.0001)\n",
    "epoches = 1000\n",
    "loss_vals_train = []"
   ]
  },
  {
   "cell_type": "code",
   "execution_count": 24,
   "metadata": {},
   "outputs": [],
   "source": [
    "for i in range(epoches):\n",
    "    y_pred = model(x_train_tensor)\n",
    "    loss = loss_func(y_pred[:-15], y_train_tensor[:-15])\n",
    "    loss_vals_train.append(loss)\n",
    "    optimizer.zero_grad()\n",
    "    loss.backward()\n",
    "    optimizer.step()"
   ]
  },
  {
   "cell_type": "code",
   "execution_count": 25,
   "metadata": {},
   "outputs": [
    {
     "data": {
      "text/plain": [
       "CNN(\n",
       "  (myn): Sequential(\n",
       "    (0): Dropout(p=0.2, inplace=False)\n",
       "    (1): Linear(in_features=6, out_features=1024, bias=True)\n",
       "    (2): ReLU()\n",
       "    (3): Dropout(p=0.2, inplace=False)\n",
       "    (4): Linear(in_features=1024, out_features=1024, bias=True)\n",
       "    (5): ReLU()\n",
       "    (6): Dropout(p=0.2, inplace=False)\n",
       "    (7): Linear(in_features=1024, out_features=512, bias=True)\n",
       "    (8): ReLU()\n",
       "    (9): Dropout(p=0.2, inplace=False)\n",
       "    (10): Linear(in_features=512, out_features=256, bias=True)\n",
       "    (11): ReLU()\n",
       "    (12): Dropout(p=0.2, inplace=False)\n",
       "    (13): Linear(in_features=256, out_features=128, bias=True)\n",
       "    (14): ReLU()\n",
       "    (15): Dropout(p=0.2, inplace=False)\n",
       "    (16): Linear(in_features=128, out_features=6, bias=True)\n",
       "  )\n",
       ")"
      ]
     },
     "execution_count": 25,
     "metadata": {},
     "output_type": "execute_result"
    }
   ],
   "source": [
    "model.eval()"
   ]
  },
  {
   "cell_type": "code",
   "execution_count": 26,
   "metadata": {},
   "outputs": [
    {
     "data": {
      "text/plain": [
       "1.0"
      ]
     },
     "execution_count": 26,
     "metadata": {},
     "output_type": "execute_result"
    }
   ],
   "source": [
    "y_pred = model(x_test_tensor)\n",
    "y_pred = np.argmax(y_pred.detach().numpy(), axis = 1)\n",
    "accuracy_score(y_test_tensor, y_pred)"
   ]
  },
  {
   "cell_type": "code",
   "execution_count": null,
   "metadata": {},
   "outputs": [],
   "source": []
  }
 ],
 "metadata": {
  "kernelspec": {
   "display_name": "Python 3 (ipykernel)",
   "language": "python",
   "name": "python3"
  },
  "language_info": {
   "codemirror_mode": {
    "name": "ipython",
    "version": 3
   },
   "file_extension": ".py",
   "mimetype": "text/x-python",
   "name": "python",
   "nbconvert_exporter": "python",
   "pygments_lexer": "ipython3",
   "version": "3.11.7"
  }
 },
 "nbformat": 4,
 "nbformat_minor": 4
}
