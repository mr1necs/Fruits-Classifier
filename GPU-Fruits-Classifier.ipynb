{
 "cells": [
  {
   "cell_type": "code",
   "execution_count": 25,
   "id": "01d6f846-ce87-4766-ad13-8fa960a7a2ca",
   "metadata": {},
   "outputs": [],
   "source": [
    "from tqdm import tqdm\n",
    "\n",
    "import torch\n",
    "from torch import nn\n",
    "from torch.utils.data import DataLoader, random_split\n",
    "\n",
    "from torchvision import transforms, datasets\n",
    "from sklearn.metrics import accuracy_score\n",
    "\n",
    "import PIL"
   ]
  },
  {
   "cell_type": "code",
   "execution_count": 51,
   "id": "beb8bf33-2f3c-4320-853e-9e2e5c758c25",
   "metadata": {},
   "outputs": [],
   "source": [
    "IMAGE_SIZE = 100\n",
    "\n",
    "EPOCHES = 5\n",
    "BATCH_SIZE = 256\n",
    "LEARNING_RATE = 0.000001\n",
    "\n",
    "PATH_TRAIN = 'Train_data'\n",
    "PATH_TESTS = 'Tests_data'"
   ]
  },
  {
   "cell_type": "code",
   "execution_count": 3,
   "id": "772ee598-a4aa-4a24-9f41-e8ed4bceceda",
   "metadata": {},
   "outputs": [],
   "source": [
    "class CNN(nn.Module):\n",
    "    def __init__(self):\n",
    "        super().__init__()\n",
    "        self.network = nn.Sequential(\n",
    "            nn.Conv2d(3, 16, kernel_size=5),\n",
    "            nn.ReLU(),\n",
    "            nn.MaxPool2d(2, 2),    \n",
    "            \n",
    "            nn.Conv2d(16, 32, kernel_size=3),\n",
    "            nn.ReLU(),\n",
    "            nn.MaxPool2d(2, 2),    \n",
    "            \n",
    "            nn.Conv2d(32, 64, kernel_size=3),\n",
    "            nn.ReLU(),\n",
    "            nn.MaxPool2d(2, 2),\n",
    "                \n",
    "            nn.Flatten(),\n",
    "            nn.Linear(64*10*10, 1000),\n",
    "            nn.ReLU(),\n",
    "            nn.Linear(1000, 500),\n",
    "            nn.ReLU(),\n",
    "            nn.Dropout(0.4),\n",
    "            nn.Linear(500, 131))\n",
    "        \n",
    "    def forward(self, xb):\n",
    "        return self.network(xb)"
   ]
  },
  {
   "cell_type": "code",
   "execution_count": 4,
   "id": "1f8827ac-9301-4198-b71a-0628c6477056",
   "metadata": {},
   "outputs": [],
   "source": [
    "def random_split_ratio(dataset, test_size=.2, random_state=None):\n",
    "    second_part = int(len(dataset) * test_size)\n",
    "    first_part = int(len(dataset)) - second_part\n",
    "\n",
    "    if random_state:\n",
    "        first_split, second_split = random_split(dataset, lengths=[first_part, second_part], \n",
    "                                                 generator=torch.Generator().manual_seed(random_state))\n",
    "    else:\n",
    "        first_split, second_split = random_split(dataset, lengths=[first_part, second_part])\n",
    "\n",
    "    return first_split, second_split"
   ]
  },
  {
   "cell_type": "code",
   "execution_count": 5,
   "id": "fd8765c3-4a57-468f-a70e-86419eb8b2b0",
   "metadata": {},
   "outputs": [],
   "source": [
    "def verify_image(fp):\n",
    "    try:\n",
    "        PIL.Image.open(fp).verify()\n",
    "        return True\n",
    "    except:\n",
    "        return False"
   ]
  },
  {
   "cell_type": "code",
   "execution_count": 6,
   "id": "cf2345ea-9158-4afb-9f2a-49726959bcb3",
   "metadata": {},
   "outputs": [
    {
     "name": "stdout",
     "output_type": "stream",
     "text": [
      "CNN training on mps\n"
     ]
    }
   ],
   "source": [
    "device = \"mps\" if torch.backends.mps.is_available() else \"cpu\"\n",
    "print(f'CNN training on {device}')"
   ]
  },
  {
   "cell_type": "code",
   "execution_count": 7,
   "id": "d2ebfddc-94f0-496d-9ab3-e4358007e72b",
   "metadata": {},
   "outputs": [],
   "source": [
    "model = CNN()"
   ]
  },
  {
   "cell_type": "code",
   "execution_count": 44,
   "id": "0cf787c6-9885-4745-8a94-651da67a6604",
   "metadata": {},
   "outputs": [],
   "source": [
    "transform = transforms.Compose([\n",
    "    transforms.RandomHorizontalFlip(),\n",
    "    transforms.RandomRotation(degrees=120),\n",
    "    transforms.ColorJitter(brightness=0.1, contrast=0.1, saturation=0.1, hue=0.1),\n",
    "    transforms.ToTensor()\n",
    "])"
   ]
  },
  {
   "cell_type": "code",
   "execution_count": 52,
   "id": "bedd49d2-a6fa-4c87-90f2-bc7f2332e38e",
   "metadata": {},
   "outputs": [
    {
     "name": "stdout",
     "output_type": "stream",
     "text": [
      "Train data length: 54154\n",
      "Valid data length: 13538\n",
      "Tests data length: 22688\n"
     ]
    }
   ],
   "source": [
    "dataset = datasets.ImageFolder(root=PATH_TRAIN, transform=transform, is_valid_file=verify_image)\n",
    "\n",
    "train_dataset, valid_dataset = random_split_ratio(dataset, random_state=42)\n",
    "train_loader = DataLoader(train_dataset, batch_size=BATCH_SIZE, shuffle=True)\n",
    "valid_loader = DataLoader(valid_dataset, batch_size=BATCH_SIZE, shuffle=True)\n",
    "\n",
    "\n",
    "tests_dataset = datasets.ImageFolder(root=PATH_TESTS, transform=transform, is_valid_file=verify_image)\n",
    "tests_loader = DataLoader(tests_dataset, batch_size=BATCH_SIZE, shuffle=True)\n",
    "\n",
    "print(f'Train data length: {len(train_loader.dataset)}\\n'\n",
    "      f'Valid data length: {len(valid_loader.dataset)}\\n'\n",
    "      f'Tests data length: {len(tests_loader.dataset)}')"
   ]
  },
  {
   "cell_type": "code",
   "execution_count": 53,
   "id": "ab0d8bae-72ea-41bd-8e69-2caefba53258",
   "metadata": {},
   "outputs": [],
   "source": [
    "criterion = nn.CrossEntropyLoss()\n",
    "optimizer = torch.optim.Adam(model.parameters(), lr=LEARNING_RATE)"
   ]
  },
  {
   "cell_type": "code",
   "execution_count": 54,
   "id": "e2c7c13d-cd90-4b4a-90fe-26ed54b2893f",
   "metadata": {},
   "outputs": [
    {
     "name": "stderr",
     "output_type": "stream",
     "text": [
      "Training:     : 100%|█████████████████████████████████████████████| 212/212 [01:18<00:00,  2.71it/s]\n",
      "Validation:   : 100%|███████████████████████████████████████████████| 53/53 [00:13<00:00,  4.04it/s]\n"
     ]
    },
    {
     "name": "stdout",
     "output_type": "stream",
     "text": [
      "Epoch:               1 / 5\n",
      "Avarage train loss:  0.464\n",
      "Avarage valid loss:  0.456\n",
      "Validation accuracy: 0.861\n"
     ]
    },
    {
     "name": "stderr",
     "output_type": "stream",
     "text": [
      "Training:     : 100%|█████████████████████████████████████████████| 212/212 [01:14<00:00,  2.83it/s]\n",
      "Validation:   : 100%|███████████████████████████████████████████████| 53/53 [00:13<00:00,  4.03it/s]\n"
     ]
    },
    {
     "name": "stdout",
     "output_type": "stream",
     "text": [
      "Epoch:               2 / 5\n",
      "Avarage train loss:  0.654\n",
      "Avarage valid loss:  0.458\n",
      "Validation accuracy: 0.857\n"
     ]
    },
    {
     "name": "stderr",
     "output_type": "stream",
     "text": [
      "Training:     : 100%|█████████████████████████████████████████████| 212/212 [01:16<00:00,  2.79it/s]\n",
      "Validation:   : 100%|███████████████████████████████████████████████| 53/53 [00:13<00:00,  3.97it/s]\n"
     ]
    },
    {
     "name": "stdout",
     "output_type": "stream",
     "text": [
      "Epoch:               3 / 5\n",
      "Avarage train loss:  0.646\n",
      "Avarage valid loss:  0.465\n",
      "Validation accuracy: 0.854\n"
     ]
    },
    {
     "name": "stderr",
     "output_type": "stream",
     "text": [
      "Training:     : 100%|█████████████████████████████████████████████| 212/212 [01:15<00:00,  2.82it/s]\n",
      "Validation:   : 100%|███████████████████████████████████████████████| 53/53 [00:13<00:00,  4.01it/s]\n"
     ]
    },
    {
     "name": "stdout",
     "output_type": "stream",
     "text": [
      "Epoch:               4 / 5\n",
      "Avarage train loss:  0.643\n",
      "Avarage valid loss:  0.458\n",
      "Validation accuracy: 0.858\n"
     ]
    },
    {
     "name": "stderr",
     "output_type": "stream",
     "text": [
      "Training:     : 100%|█████████████████████████████████████████████| 212/212 [01:15<00:00,  2.83it/s]\n",
      "Validation:   : 100%|███████████████████████████████████████████████| 53/53 [00:13<00:00,  4.03it/s]"
     ]
    },
    {
     "name": "stdout",
     "output_type": "stream",
     "text": [
      "Epoch:               5 / 5\n",
      "Avarage train loss:  0.638\n",
      "Avarage valid loss:  0.449\n",
      "Validation accuracy: 0.863\n"
     ]
    },
    {
     "name": "stderr",
     "output_type": "stream",
     "text": [
      "\n"
     ]
    }
   ],
   "source": [
    "for epoch in range(EPOCHES):\n",
    "\n",
    "    model.to(device)\n",
    "    \n",
    "    train_running_loss = 0\n",
    "    valid_running_loss = 0\n",
    "    bar = tqdm(train_loader, total=len(train_loader), ncols=100)\n",
    "    bar.set_description(f\"Training:     \")\n",
    "    \n",
    "    for x_batch, y_batch in bar:\n",
    "        x_batch, y_batch = x_batch.to(device), y_batch.to(device)\n",
    "        outputs = model(x_batch)\n",
    "        loss = criterion(outputs, y_batch)\n",
    "        loss.backward() \n",
    "        optimizer.step()\n",
    "        optimizer.zero_grad()\n",
    "\n",
    "        train_running_loss += (loss.item() * x_batch.size(0))\n",
    "\n",
    "    with torch.no_grad():\n",
    "        \n",
    "        model.eval()\n",
    "\n",
    "        valid_predict = []  \n",
    "        valid_targets = []  \n",
    "        \n",
    "        vbar = tqdm(valid_loader, total=len(valid_loader), ncols=100)\n",
    "        vbar.set_description(f\"Validation:   \")\n",
    "        vbar.reset()\n",
    "        \n",
    "        for x_batch, y_batch in vbar:\n",
    "            x_batch, y_batch = x_batch.to(device), y_batch.to(device)\n",
    "            outputs = model(x_batch)\n",
    "            loss = criterion(outputs, y_batch)\n",
    "            \n",
    "            valid_running_loss += (loss.item() * x_batch.size(0))\n",
    "\n",
    "            valid_predict.extend(torch.argmax(outputs, dim=1).cpu().numpy())\n",
    "            valid_targets.extend(y_batch.cpu().numpy())\n",
    "\n",
    "        model.train()\n",
    "\n",
    "    print(f'Epoch:               {epoch + 1} / {EPOCHES}\\n'\n",
    "          f'Avarage train loss:  {(train_running_loss / len(train_loader.dataset)):.3f}\\n'\n",
    "          f'Avarage valid loss:  {(valid_running_loss / len(valid_loader.dataset)):.3f}\\n'\n",
    "          f'Validation accuracy: {(accuracy_score(valid_targets, valid_predict)):.3f}')"
   ]
  },
  {
   "cell_type": "code",
   "execution_count": 55,
   "id": "9104a116-6936-4bad-bcb5-3a1c5d0bccd6",
   "metadata": {},
   "outputs": [
    {
     "name": "stderr",
     "output_type": "stream",
     "text": [
      "Testing: : 100%|████████████████████████████████████████████████████| 89/89 [00:22<00:00,  4.01it/s]"
     ]
    },
    {
     "name": "stdout",
     "output_type": "stream",
     "text": [
      "Test Accuracy: 77.32%\n"
     ]
    },
    {
     "name": "stderr",
     "output_type": "stream",
     "text": [
      "\n"
     ]
    }
   ],
   "source": [
    "model.eval()\n",
    "\n",
    "test_predict = []  \n",
    "test_targets = []  \n",
    "\n",
    "bar = tqdm(enumerate(tests_loader), total=len(tests_loader), ncols=100)\n",
    "bar.set_description(f\"Testing: \")\n",
    "\n",
    "for idx_batch, (x_batch, y_batch) in bar:\n",
    "    x_batch, y_batch = x_batch.to(device), y_batch.to(device)\n",
    "    outputs = model(x_batch)\n",
    "    test_predict.extend(torch.argmax(outputs, dim=1).cpu().numpy())\n",
    "    test_targets.extend(y_batch.cpu().numpy())\n",
    "    \n",
    "accuracy = accuracy_score(test_targets, test_predict)\n",
    "print(f'Test Accuracy: {100 * accuracy:.2f}%')"
   ]
  },
  {
   "cell_type": "code",
   "execution_count": 45,
   "id": "1d4dae4f-4e3c-4ecf-8f95-fd17dc5348e4",
   "metadata": {},
   "outputs": [],
   "source": [
    "torch.save(model.state_dict(), str('fruits_classifier_new.pth'))"
   ]
  },
  {
   "cell_type": "code",
   "execution_count": 61,
   "id": "aa46a023-1568-47f5-8cfb-391e2453c7ec",
   "metadata": {},
   "outputs": [
    {
     "data": {
      "text/plain": [
       "<All keys matched successfully>"
      ]
     },
     "execution_count": 61,
     "metadata": {},
     "output_type": "execute_result"
    }
   ],
   "source": [
    "model.load_state_dict(torch.load('fruits_classifier_99-76.pth'))"
   ]
  },
  {
   "cell_type": "code",
   "execution_count": null,
   "id": "c5464ed5-868c-417b-a3f7-32e9301a7791",
   "metadata": {},
   "outputs": [],
   "source": []
  }
 ],
 "metadata": {
  "kernelspec": {
   "display_name": "Python 3 (ipykernel)",
   "language": "python",
   "name": "python3"
  },
  "language_info": {
   "codemirror_mode": {
    "name": "ipython",
    "version": 3
   },
   "file_extension": ".py",
   "mimetype": "text/x-python",
   "name": "python",
   "nbconvert_exporter": "python",
   "pygments_lexer": "ipython3",
   "version": "3.11.7"
  }
 },
 "nbformat": 4,
 "nbformat_minor": 5
}
